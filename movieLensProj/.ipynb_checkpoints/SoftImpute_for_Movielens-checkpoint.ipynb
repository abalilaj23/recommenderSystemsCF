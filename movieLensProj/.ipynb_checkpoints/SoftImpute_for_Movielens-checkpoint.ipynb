{
 "cells": [
  {
   "cell_type": "markdown",
   "id": "b3c46e94",
   "metadata": {
    "id": "b3c46e94"
   },
   "source": [
    "#  The MovieLens Dataset\n",
    "\n",
    "[MovieLens](https://movielens.org/) is a non-commercial web-based movie recommender system, created in 1997 by GroupLens, a research lab at the University of Minnesota, in order to gather movie rating data for research purposes.\n",
    "\n",
    "\n",
    "## Getting the Data\n",
    "\n",
    "\n",
    "The MovieLens dataset is hosted by the [GroupLens](https://grouplens.org/datasets/movielens/) website. Several versions are available. I will use the latest smallest dataset released from [link](https://files.grouplens.org/datasets/movielens/ml-latest-small.zip).\n",
    "\n",
    "## Custom Code\n",
    "\n",
    "soft_impute and functionsCF are custom packages"
   ]
  },
  {
   "cell_type": "code",
   "execution_count": 1,
   "id": "e8ae0c8f",
   "metadata": {
    "id": "e8ae0c8f"
   },
   "outputs": [],
   "source": [
    "# Impute necessary packages\n",
    "import numpy as np\n",
    "import pandas as pd\n",
    "from fancyimpute import BiScaler\n",
    "from soft_impute import SoftImpute\n",
    "from functionsCF import GenerateTrainingSet"
   ]
  },
  {
   "cell_type": "markdown",
   "id": "40bbbdd4",
   "metadata": {
    "id": "40bbbdd4"
   },
   "source": [
    "## Create the incomplete matrices for training and testing"
   ]
  },
  {
   "cell_type": "code",
   "execution_count": 2,
   "id": "Vsbz4zO0j7DB",
   "metadata": {
    "id": "Vsbz4zO0j7DB"
   },
   "outputs": [],
   "source": [
    "# Read movielens data from files- point to where data is stored, small set of Movielens dataset\n",
    "# 100836 (rows), userId\tmovieId\trating\ttimestamp (columns).\n",
    "# Using smaller dataset rather than the full dataset to speed performance.\n",
    "# read in values only\n",
    "rating = pd.read_csv('ratings.csv', sep=',').values"
   ]
  },
  {
   "cell_type": "code",
   "execution_count": 3,
   "id": "ptTHCfTfxBuC",
   "metadata": {
    "id": "ptTHCfTfxBuC"
   },
   "outputs": [],
   "source": [
    "# Here we only care about the ratings, so we only use the first three columns, which contain use IDs, movie IDs, and ratings.\n",
    "rating = rating[:,0:3]"
   ]
  },
  {
   "cell_type": "code",
   "execution_count": 4,
   "id": "a-i471csu_K3",
   "metadata": {
    "colab": {
     "base_uri": "https://localhost:8080/"
    },
    "id": "a-i471csu_K3",
    "outputId": "8354b583-ed27-4ef5-dac5-24de4297d3d0"
   },
   "outputs": [
    {
     "name": "stdout",
     "output_type": "stream",
     "text": [
      "[[ 1.  1.  4.]\n",
      " [ 1.  3.  4.]\n",
      " [ 1.  6.  4.]\n",
      " [ 1. 47.  5.]\n",
      " [ 1. 50.  5.]]\n"
     ]
    }
   ],
   "source": [
    "#show top 5 rows\n",
    "print(rating[:5, :])"
   ]
  },
  {
   "cell_type": "code",
   "execution_count": 5,
   "id": "b23d947b",
   "metadata": {
    "id": "b23d947b"
   },
   "outputs": [],
   "source": [
    "\n",
    "# First, we create an empty matrix\n",
    "matrix_incomplete = np.zeros((len(np.unique(rating[:,0])), len(np.unique(rating[:,1]))))\n",
    "\n",
    "# Second, Since some movies don't have any ratings, we only use the movies that have ratings. \n",
    "# Here, we correspondingly change the movie IDs to make each column have ratings.\n",
    "# We create an array of all movie IDs\n",
    "usedID = np.unique(rating[:, 1]) \n",
    "# replace the movie IDs by the their positions in the array we just created\n",
    "for i in range(len(rating[:,1])):\n",
    "    rating[:,1][i] = np.where(usedID==rating[:,1][i])[0][0] + 1\n",
    "    \n",
    "# Finally, we construct the incomplete matrix, on which the incomplete components are nan by default. \n",
    "# all components are nan by default\n",
    "matrix_incomplete[:] = np.nan\n",
    "# create the index pair of the components with ratings\n",
    "indices = np.array(rating[:,0] - 1).astype(int), np.array(rating[:,1] - 1).astype(int)\n",
    "# change the values in the corresponding positions to the known rating information\n",
    "matrix_incomplete[indices] = rating[:,2]"
   ]
  },
  {
   "cell_type": "code",
   "execution_count": 6,
   "id": "2f54b0e6",
   "metadata": {
    "id": "2f54b0e6"
   },
   "outputs": [],
   "source": [
    "# Obtain the index pairs of the training set and the validation set, with ratio 90%\n",
    "train_indices, validation_indices = GenerateTrainingSet(rating[:,0], rating[:,1], 0.90)\n",
    "# And then use the index pairs to create the incomplete training test\n",
    "matrix_train = matrix_incomplete.copy()\n",
    "matrix_train[:] = np.nan\n",
    "matrix_train[train_indices] = matrix_incomplete[train_indices]"
   ]
  },
  {
   "cell_type": "markdown",
   "id": "69a998c9",
   "metadata": {
    "id": "69a998c9"
   },
   "source": [
    "##  Run the softImpute model for collaborative filtering"
   ]
  },
  {
   "cell_type": "code",
   "execution_count": 7,
   "id": "0d16d1db",
   "metadata": {
    "id": "0d16d1db"
   },
   "outputs": [],
   "source": [
    "# Create the BiScaler model\n",
    "biscaler = BiScaler(scale_rows=False, scale_columns=False, max_iters=50, verbose=False)\n",
    "# Rescale both rows and columns to have zero mean\n",
    "matrix_train_normalized = biscaler.fit_transform(matrix_train)"
   ]
  },
  {
   "cell_type": "code",
   "execution_count": 8,
   "id": "ae5de031",
   "metadata": {
    "id": "ae5de031"
   },
   "outputs": [],
   "source": [
    "# Use softImpute to complete the matrix. J comes from the soft_impute.py and refers to the number of Archetypes. \n",
    "softImpute = SoftImpute(J = 4, maxit = 200, random_seed = 1, verbose = False)"
   ]
  },
  {
   "cell_type": "code",
   "execution_count": 9,
   "id": "19484161",
   "metadata": {
    "id": "19484161"
   },
   "outputs": [],
   "source": [
    "# We run the softImpute model on the normalized training set\n",
    "matrix_train_softImpute = softImpute.fit(matrix_train_normalized)\n",
    "# Use the softImpute model to create the predicted matrix. Set copyto to false to avoid changing the value of matrix_train_normalized\n",
    "matrix_train_filled_normalized = matrix_train_softImpute.predict(matrix_train_normalized, copyto = False)\n",
    "# Inverse transformation to undo the scaling we did in two cells above\n",
    "matrix_train_filled = biscaler.inverse_transform(matrix_train_filled_normalized)"
   ]
  },
  {
   "cell_type": "markdown",
   "id": "9481eb67",
   "metadata": {
    "id": "9481eb67"
   },
   "source": [
    "## Analysis of the predicted ratings"
   ]
  },
  {
   "cell_type": "markdown",
   "id": "988d616f",
   "metadata": {
    "id": "988d616f"
   },
   "source": [
    "### Out-of-sample R^2"
   ]
  },
  {
   "cell_type": "code",
   "execution_count": 10,
   "id": "a097cfe2",
   "metadata": {
    "id": "a097cfe2"
   },
   "outputs": [],
   "source": [
    "# We create the baseline method\n",
    "train_average = np.average(matrix_train[train_indices])"
   ]
  },
  {
   "cell_type": "code",
   "execution_count": 11,
   "id": "d89639dd",
   "metadata": {
    "colab": {
     "base_uri": "https://localhost:8080/"
    },
    "id": "d89639dd",
    "outputId": "b4aef0cf-8ff5-4e89-c5a7-8de28c90520f"
   },
   "outputs": [
    {
     "name": "stdout",
     "output_type": "stream",
     "text": [
      "out-of-sample R2: 0.1854, in-sample R2: 0.6270.\n"
     ]
    }
   ],
   "source": [
    "# Calculate out-of-sample R2 and in-sample R2\n",
    "\n",
    "validation_mse = ((matrix_train_filled[validation_indices] - matrix_incomplete[validation_indices]) ** 2).mean()\n",
    "training_mse = ((matrix_train_filled[train_indices] - matrix_incomplete[train_indices]) ** 2).mean()\n",
    "validation_mse_baseline = ((train_average - matrix_incomplete[validation_indices]) ** 2).mean()\n",
    "training_mse_baseline = ((train_average - matrix_incomplete[train_indices]) ** 2).mean()\n",
    "print(\"out-of-sample R2: %.4f, in-sample R2: %.4f.\" % (1 - validation_mse / validation_mse_baseline, 1 - training_mse / training_mse_baseline))"
   ]
  },
  {
   "cell_type": "markdown",
   "id": "d09890c5",
   "metadata": {
    "id": "d09890c5"
   },
   "source": [
    "### Get low-rank factors"
   ]
  },
  {
   "cell_type": "code",
   "execution_count": 12,
   "id": "78125afd",
   "metadata": {
    "colab": {
     "base_uri": "https://localhost:8080/"
    },
    "id": "78125afd",
    "outputId": "5ca006ad-237a-4cac-918a-8efde9fe19db"
   },
   "outputs": [
    {
     "data": {
      "text/plain": [
       "array([[-0.00818305, -0.00186758, -0.0064995 , -0.00933809],\n",
       "       [-0.00363814, -0.0054402 , -0.00101252,  0.00464615],\n",
       "       [-0.00436636, -0.01031742, -0.01088822,  0.00168521],\n",
       "       ...,\n",
       "       [ 0.        ,  0.        ,  0.        ,  0.        ],\n",
       "       [ 0.        ,  0.        ,  0.        ,  0.        ],\n",
       "       [ 0.        ,  0.        ,  0.        ,  0.        ]],\n",
       "      shape=(9724, 4))"
      ]
     },
     "execution_count": 12,
     "metadata": {},
     "output_type": "execute_result"
    }
   ],
   "source": [
    "# Obtain the ratings of each archetype\n",
    "# Each row of this matrix corresponds to a movie and each column corresponds to an archetype\n",
    "softImpute.v"
   ]
  },
  {
   "cell_type": "code",
   "execution_count": 13,
   "id": "1c37024e",
   "metadata": {
    "colab": {
     "base_uri": "https://localhost:8080/"
    },
    "id": "1c37024e",
    "outputId": "0e4e1c3f-d785-4171-f3b4-403aae3fbc1c"
   },
   "outputs": [
    {
     "data": {
      "text/plain": [
       "(9724, 4)"
      ]
     },
     "execution_count": 13,
     "metadata": {},
     "output_type": "execute_result"
    }
   ],
   "source": [
    "softImpute.v.shape"
   ]
  },
  {
   "cell_type": "code",
   "execution_count": 14,
   "id": "6250e638",
   "metadata": {
    "colab": {
     "base_uri": "https://localhost:8080/"
    },
    "id": "6250e638",
    "outputId": "2f39c99f-48e2-4a87-83ca-0796449fdde6"
   },
   "outputs": [
    {
     "data": {
      "text/plain": [
       "array([[ -0.53562161, -18.40094309,   2.04833569,  -4.7306278 ],\n",
       "       [ -7.96613867,   9.96148122,   4.36921993,  -0.54960925],\n",
       "       [-33.19272433,  26.54336994,  39.60564913,  59.11771063],\n",
       "       ...,\n",
       "       [ 41.74092437,  28.96409398,  18.97959189,  12.41164149],\n",
       "       [ -3.35984854,  -4.20183855,  -1.98668248,   5.32306638],\n",
       "       [-10.43299218,   6.68294442,  -5.86424168, -21.54523686]],\n",
       "      shape=(610, 4))"
      ]
     },
     "execution_count": 14,
     "metadata": {},
     "output_type": "execute_result"
    }
   ],
   "source": [
    "\n",
    "#  the weights of archetypes of each user\n",
    "# each row of this matrix corresponds to a user and each column corresponds to an archetype\n",
    "weights = np.dot(softImpute.u, np.diagflat(softImpute.d).T)\n",
    "weights"
   ]
  },
  {
   "cell_type": "code",
   "execution_count": 15,
   "id": "c3dd121c",
   "metadata": {
    "colab": {
     "base_uri": "https://localhost:8080/"
    },
    "id": "c3dd121c",
    "outputId": "e9ad2066-ab99-47b4-ee62-aca30747dd4e"
   },
   "outputs": [
    {
     "data": {
      "text/plain": [
       "(610, 4)"
      ]
     },
     "execution_count": 15,
     "metadata": {},
     "output_type": "execute_result"
    }
   ],
   "source": [
    "weights.shape"
   ]
  },
  {
   "cell_type": "code",
   "execution_count": 16,
   "id": "cf2f7437",
   "metadata": {
    "id": "cf2f7437"
   },
   "outputs": [],
   "source": [
    "# And then the predicted matrix is computed by the product of two low-rank matrices\n",
    "new_prediction = np.dot(weights, softImpute.v.T)"
   ]
  },
  {
   "cell_type": "code",
   "execution_count": 17,
   "id": "d7421f9c",
   "metadata": {
    "colab": {
     "base_uri": "https://localhost:8080/"
    },
    "id": "d7421f9c",
    "outputId": "7a56ee67-1a55-4a39-9b02-e04edad2cd37"
   },
   "outputs": [
    {
     "data": {
      "text/plain": [
       "np.float64(7.381488988216507e-11)"
      ]
     },
     "execution_count": 17,
     "metadata": {},
     "output_type": "execute_result"
    }
   ],
   "source": [
    "# We can see it is the same with the output of the codes in the previous section\n",
    "np.sum(np.abs(new_prediction - matrix_train_filled_normalized))"
   ]
  },
  {
   "cell_type": "markdown",
   "id": "c0831b6a",
   "metadata": {
    "id": "c0831b6a"
   },
   "source": [
    "END!"
   ]
  }
 ],
 "metadata": {
  "colab": {
   "provenance": []
  },
  "kernelspec": {
   "display_name": "my_env1",
   "language": "python",
   "name": "my_env1"
  },
  "language_info": {
   "codemirror_mode": {
    "name": "ipython",
    "version": 3
   },
   "file_extension": ".py",
   "mimetype": "text/x-python",
   "name": "python",
   "nbconvert_exporter": "python",
   "pygments_lexer": "ipython3",
   "version": "3.12.3"
  }
 },
 "nbformat": 4,
 "nbformat_minor": 5
}
