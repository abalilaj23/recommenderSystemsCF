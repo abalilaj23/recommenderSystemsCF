{
 "cells": [
  {
   "cell_type": "markdown",
   "id": "2ca78158-92d2-4e69-ae57-6b31f95831fb",
   "metadata": {},
   "source": [
    "                Estimating Non-existing Ratings from Existing Ones"
   ]
  },
  {
   "cell_type": "code",
   "execution_count": 31,
   "id": "8120e9b2-6127-4dcc-9fbc-a7101279e021",
   "metadata": {},
   "outputs": [],
   "source": [
    "#import the necessary tools\n",
    "import numpy as np\n",
    "import pandas as pd\n",
    "from fancyimpute import BiScaler\n",
    "from helperFunCF import GenerateTrainingSet\n",
    "from soft_impute_local import SoftImpute\n"
   ]
  },
  {
   "cell_type": "code",
   "execution_count": 13,
   "id": "66b10f71-a338-49e4-8cc6-2d162df4b8ea",
   "metadata": {},
   "outputs": [
    {
     "name": "stdout",
     "output_type": "stream",
     "text": [
      "[[ 1.    1.   -7.82]\n",
      " [ 1.    2.    8.79]\n",
      " [ 1.    3.   -9.66]\n",
      " [ 1.    4.   -8.16]\n",
      " [ 1.    5.   -7.52]]\n"
     ]
    }
   ],
   "source": [
    "#read in the data and check it out \n",
    "rating = pd.read_csv('jester-data-3.csv', sep = \",\").values\n",
    "print(rating[:5,:])"
   ]
  },
  {
   "cell_type": "code",
   "execution_count": 15,
   "id": "2f982e23-99e8-4293-8c59-ca59e6aa0278",
   "metadata": {},
   "outputs": [
    {
     "name": "stdout",
     "output_type": "stream",
     "text": [
      "[[0. 0. 0. ... 0. 0. 0.]\n",
      " [0. 0. 0. ... 0. 0. 0.]\n",
      " [0. 0. 0. ... 0. 0. 0.]\n",
      " ...\n",
      " [0. 0. 0. ... 0. 0. 0.]\n",
      " [0. 0. 0. ... 0. 0. 0.]\n",
      " [0. 0. 0. ... 0. 0. 0.]]\n"
     ]
    }
   ],
   "source": [
    "#create and incomplete matrix\n",
    "matrix_incomplete = np.zeros((len(np.unique(rating[:, 0])), len(np.unique(rating[:,1]))))\n",
    "print(matrix_incomplete)"
   ]
  },
  {
   "cell_type": "code",
   "execution_count": 17,
   "id": "71d0d577-6ce6-430d-a5cc-adf8f86e3cac",
   "metadata": {},
   "outputs": [],
   "source": [
    "# change the data to use only the jokes that have ratings since not all of them have ratings\n",
    "usedID = np.unique(rating[:,1])\n",
    "for i in range(len(rating[:,1])):\n",
    "    rating[:,1][i]= np.where(usedID==rating[:,1][i])[0][0]+1\n"
   ]
  },
  {
   "cell_type": "code",
   "execution_count": 18,
   "id": "37f42e69-0e49-4970-81cc-71307cf19dbc",
   "metadata": {},
   "outputs": [],
   "source": [
    "#change the incomplete matrix to where the incomplete components are nan by default\n",
    "matrix_incomplete[:]= np.nan\n",
    "#create an index pair of components with ratings\n",
    "indices = np.array(rating[:, 0]- 1).astype(int), np.array(rating[:, 1]-1).astype(int)\n",
    "#change the values to the known rating information\n",
    "matrix_incomplete[indices] = rating[:,2]\n"
   ]
  },
  {
   "cell_type": "code",
   "execution_count": 19,
   "id": "85eadc98-3522-46d9-b692-87b6ad9f9b10",
   "metadata": {},
   "outputs": [],
   "source": [
    "# split the data into training set (80%) and validation set using the predefined helper function\n",
    "train_indices, validation_indices = GenerateTrainingSet(rating[:,0], rating[:,1], 0.80)\n"
   ]
  },
  {
   "cell_type": "code",
   "execution_count": 20,
   "id": "9e902189-3593-4c2d-a63f-b402d8cf75c5",
   "metadata": {},
   "outputs": [],
   "source": [
    "# now use the index pairs to create the incomplete training test \n",
    "matrix_train = matrix_incomplete.copy()\n",
    "matrix_train[:] = np.nan\n",
    "matrix_train[train_indices]= matrix_incomplete[train_indices]"
   ]
  },
  {
   "cell_type": "markdown",
   "id": "b7c25136-d7e3-4560-a789-20136d81b9d0",
   "metadata": {},
   "source": [
    "Softimpute Model for Collaborative Filtering"
   ]
  },
  {
   "cell_type": "code",
   "execution_count": 37,
   "id": "2e0fcf37-c0c6-40a8-92d2-7054d0ad2880",
   "metadata": {},
   "outputs": [],
   "source": [
    "#now that we have our matrixes, we can run the softimpute model to estimate missing ratings. \n",
    "#we start by creating a Biscalar model and rescaling both rows and columns to have a 0 mean (normalize)\n",
    "biscaler= BiScaler(scale_rows= False, scale_columns= False, max_iters= 50, verbose = False)\n",
    "matrix_train_normalized= biscaler.fit_transform(matrix_train)\n"
   ]
  },
  {
   "cell_type": "code",
   "execution_count": 34,
   "id": "cc98e989-2ff0-4d48-b6e1-cf129f2c4345",
   "metadata": {},
   "outputs": [],
   "source": [
    "#use softinpute to complete the matrix, with 9 archetypes\n",
    "softImpute= SoftImpute(J= 9, maxit = 200, random_seed = 2022, verbose = False)"
   ]
  },
  {
   "cell_type": "code",
   "execution_count": 35,
   "id": "0a4db197-0921-4a25-88f5-dff357a894a5",
   "metadata": {},
   "outputs": [],
   "source": [
    "# now we run the softimpute model on the normalized dataset\n",
    "matrix_train_softImpute = softImpute.fit(matrix_train_normalized)"
   ]
  },
  {
   "cell_type": "code",
   "execution_count": 39,
   "id": "de7254df-47aa-4960-a4bf-6fff0b58275f",
   "metadata": {},
   "outputs": [
    {
     "name": "stdout",
     "output_type": "stream",
     "text": [
      "[[-1.84722898e+00 -8.75379265e-03 -5.19988667e+00 ... -2.30893147e+00\n",
      "  -7.24343457e+00 -5.43703966e+00]\n",
      " [ 5.38981785e+00  2.09806557e+00  8.18552860e+00 ...  1.21377518e+00\n",
      "   2.15783324e+00  6.26199274e+00]\n",
      " [ 9.76160769e+00  8.89171544e+00  6.97654940e+00 ...  5.85590944e+00\n",
      "   6.78354250e+00  6.83737736e+00]\n",
      " ...\n",
      " [ 2.45095659e+00  1.81927842e+00  1.76973025e+00 ...  3.64457193e-01\n",
      "  -3.85398257e-01  2.47811704e+00]\n",
      " [ 1.81586993e+00  9.07516130e-01 -4.61188973e-01 ... -2.56892433e+00\n",
      "  -3.37971006e+00  1.19925568e+00]\n",
      " [ 1.67496737e+00 -9.97810303e-01  1.30932792e+00 ...  3.99815775e+00\n",
      "   6.22565021e+00  1.69814605e+00]]\n"
     ]
    }
   ],
   "source": [
    "#now we use the softImpute model to create the predicted matrix. \n",
    "#we set copyto as False to avoid directly changing the value of matrix_train_normalized\n",
    "matrix_train_filled_normalized= matrix_train_softImpute.predict(matrix_train_normalized,copyto=False)\n",
    "#now inverse transform to undo the scaling we did above with .fit_transform()\n",
    "matrix_train_filled = biscaler.inverse_transform(matrix_train_filled_normalized)\n",
    "print(matrix_train_filled)"
   ]
  },
  {
   "cell_type": "markdown",
   "id": "547f1d97-6a4e-48fe-a304-1b8719c11d1c",
   "metadata": {},
   "source": [
    "                Analyze the Predicted Ratings for Model Performance (OOS R^2)"
   ]
  },
  {
   "cell_type": "code",
   "execution_count": 40,
   "id": "58113722-f954-4f8f-8fe0-7e189d8bba4b",
   "metadata": {},
   "outputs": [],
   "source": [
    "# we create a baseline method of the training set using np.average()\n",
    "train_average = np.average(matrix_train[train_indices])"
   ]
  },
  {
   "cell_type": "code",
   "execution_count": 41,
   "id": "2b9c679b-e80b-4715-95a8-5b37f49f20d9",
   "metadata": {},
   "outputs": [
    {
     "name": "stdout",
     "output_type": "stream",
     "text": [
      "out-of-sample R2: 0.3404, in-sample R2: 0.5671.\n"
     ]
    }
   ],
   "source": [
    "#we now calculate OOS R2 and IS R2\n",
    "validation_mse = ((matrix_train_filled[validation_indices]- matrix_incomplete[validation_indices])**2).mean()\n",
    "training_mse = ((matrix_train_filled[train_indices]- matrix_incomplete[train_indices])**2).mean()\n",
    "validation_mse_baseline = ((train_average- matrix_incomplete[validation_indices])**2).mean()\n",
    "training_mse_baseline = ((train_average-matrix_incomplete[train_indices])**2).mean()\n",
    "print(\"out-of-sample R2: %.4f, in-sample R2: %.4f.\" %(1-validation_mse/validation_mse_baseline, 1- training_mse / training_mse_baseline))"
   ]
  },
  {
   "cell_type": "code",
   "execution_count": null,
   "id": "c96224b1-1dd9-4826-baa0-39ff6bea943b",
   "metadata": {},
   "outputs": [],
   "source": [
    "#check out after matrix completing after prediction "
   ]
  },
  {
   "cell_type": "code",
   "execution_count": 42,
   "id": "d78b893e-294a-433f-a699-c26a9dce6863",
   "metadata": {},
   "outputs": [
    {
     "name": "stdout",
     "output_type": "stream",
     "text": [
      "After matrix completion = 2.0547280898465257\n"
     ]
    }
   ],
   "source": [
    "print(\"After matrix completion =\", matrix_train_filled[10882,64])"
   ]
  },
  {
   "cell_type": "markdown",
   "id": "f2f21c5c-54b3-4fd5-8e2a-248b16ede99e",
   "metadata": {},
   "source": [
    "                    The END!"
   ]
  }
 ],
 "metadata": {
  "kernelspec": {
   "display_name": "my_env1",
   "language": "python",
   "name": "my_env1"
  },
  "language_info": {
   "codemirror_mode": {
    "name": "ipython",
    "version": 3
   },
   "file_extension": ".py",
   "mimetype": "text/x-python",
   "name": "python",
   "nbconvert_exporter": "python",
   "pygments_lexer": "ipython3",
   "version": "3.12.3"
  }
 },
 "nbformat": 4,
 "nbformat_minor": 5
}
